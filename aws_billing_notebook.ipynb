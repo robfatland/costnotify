{
 "cells": [
  {
   "cell_type": "markdown",
   "metadata": {},
   "source": [
    "# Pangeo Billing on AWS\n",
    "\n",
    "This binder should serve as a tool for looking at billing information for Pangeo's AWS account.\n",
    "\n",
    "Anyone with admin access (?) should be able to authenticate and use the binder."
   ]
  },
  {
   "cell_type": "code",
   "execution_count": 1,
   "metadata": {},
   "outputs": [],
   "source": [
    "import boto3\n",
    "import subprocess\n",
    "import numpy as np\n",
    "import pandas as pd\n",
    "import matplotlib.pyplot as plt\n",
    "import matplotlib.dates as mdates \n",
    "\n",
    "%matplotlib inline"
   ]
  },
  {
   "cell_type": "markdown",
   "metadata": {},
   "source": [
    "Try some Boto3\n",
    "\n",
    "Okay. As long as AWS CLI is configured and you normally have access to the bucket, you can access it here.\n",
    "- AWS CLI won't be configured automatically in a Binder.\n",
    "    - Have that as part of the Docker Image, ask users to configure with their keys when they launch\n",
    "    - Or Find a temporary access method\n",
    "- On a JupyterHub, some users might already have AWS CLI configured\n",
    "    - Easier to use this code\n",
    "    - Data will persist\n",
    "        - Reduces costs for downloading from S3 many times\n",
    "        - Data is accessible to anyone who can get into your Hub (security issue)\n"
   ]
  },
  {
   "cell_type": "markdown",
   "metadata": {},
   "source": [
    "## Authenticate with Boto3\n",
    "\n",
    "The method in this notebook works for the following configurations:\n",
    "- Users who have configured the AWS CLI\n",
    " - Boto3 will use the access keys that you put in via 'aws configure'\n",
    "- Users who are on the us-east-1 pangeo JupyterHub\n",
    " - I added a policy to the role the cluster assumes that allows read access to the billing data bucket\n",
    " \n",
    "If neither of these apply, ie. you opened this as a binder, you will need to install and configure the AWS CLI\n",
    "- See https://docs.aws.amazon.com/cli/latest/userguide/cli-chap-install.html\n",
    "- Configure via the command 'aws configure'\n",
    "- Boto3 will then read your access keys as listed above"
   ]
  },
  {
   "cell_type": "markdown",
   "metadata": {},
   "source": [
    "### Billing Information Buckets\n",
    "\n",
    "There are two billing information buckets\n",
    "- copydbr-pangeo\n",
    "- 783380859522-dlt-utilization\n",
    "\n",
    "The dlt bucket has more data over more time (from Nov 2018), but Rob declares the following about the copydbr bucket:\n",
    "\n",
    "\"... this is cloudcheckr output which superseded the previous billing bucket: It was adopted by DLT as a better solution; and it has been more reliable.\"\n",
    "\n",
    "So, we are using the copydbr bucket by default, but permissions are in place if you want to look at the other one."
   ]
  },
  {
   "cell_type": "code",
   "execution_count": 2,
   "metadata": {},
   "outputs": [],
   "source": [
    "# Variables\n",
    "region = 'us-east-1'\n",
    "bucket = 'copydbr-pangeo'\n",
    "file_keys = []"
   ]
  },
  {
   "cell_type": "code",
   "execution_count": 3,
   "metadata": {},
   "outputs": [],
   "source": [
    "# Spin up base boto3 objects\n",
    "s3_client = boto3.client('s3', region_name=region)\n",
    "s3 = boto3.resource('s3', region_name=region)"
   ]
  },
  {
   "cell_type": "code",
   "execution_count": 4,
   "metadata": {},
   "outputs": [],
   "source": [
    "csv_file_list = s3_client.list_objects(Bucket=bucket)"
   ]
  },
  {
   "cell_type": "code",
   "execution_count": 5,
   "metadata": {},
   "outputs": [
    {
     "name": "stdout",
     "output_type": "stream",
     "text": [
      "2 file keys\n"
     ]
    },
    {
     "data": {
      "text/plain": [
       "['783380859522-aws-billing-detailed-line-items-with-resources-and-tags-2019-10.csv.zip',\n",
       " '783380859522-aws-billing-detailed-line-items-with-resources-and-tags-2019-11.csv.zip']"
      ]
     },
     "execution_count": 5,
     "metadata": {},
     "output_type": "execute_result"
    }
   ],
   "source": [
    "file_keys = [entry['Key'] for entry in csv_file_list['Contents']]\n",
    "print(\"%d file keys\" % len(file_keys))\n",
    "file_keys"
   ]
  },
  {
   "cell_type": "markdown",
   "metadata": {},
   "source": [
    "### Download files\n",
    "\n",
    "Let's grab the csv files themselves\n",
    "\n",
    "Can for loop the cells below to download everything in file_keys"
   ]
  },
  {
   "cell_type": "code",
   "execution_count": 6,
   "metadata": {},
   "outputs": [],
   "source": [
    "for key in file_keys:\n",
    "    download_loc = \"/data/\" + key\n",
    "    s3_client.download_file(bucket, key, key)"
   ]
  },
  {
   "cell_type": "markdown",
   "metadata": {},
   "source": [
    "Unzip the file and watch the command line output\n",
    "\n",
    "Don't need this right now\n",
    "\n",
    "for key in file_keys:\n",
    "    run_cmd_with_output([\"unzip\", key])"
   ]
  },
  {
   "cell_type": "markdown",
   "metadata": {},
   "source": [
    "### Move files via command line / subprocess\n",
    "\n",
    "You don't actually need to unzip,\n",
    "Pandas read_csv will do it for you!"
   ]
  },
  {
   "cell_type": "code",
   "execution_count": 7,
   "metadata": {},
   "outputs": [],
   "source": [
    "def run_cmd_with_output(commands):\n",
    "    print(subprocess.run(commands, capture_output=True\n",
    "                        ).stdout.decode(\"utf-8\"))"
   ]
  },
  {
   "cell_type": "markdown",
   "metadata": {},
   "source": [
    "Move data files to a new directory"
   ]
  },
  {
   "cell_type": "code",
   "execution_count": 8,
   "metadata": {},
   "outputs": [
    {
     "name": "stdout",
     "output_type": "stream",
     "text": [
      "\n"
     ]
    }
   ],
   "source": [
    "run_cmd_with_output([\"mkdir\", \"data\"])"
   ]
  },
  {
   "cell_type": "code",
   "execution_count": 9,
   "metadata": {},
   "outputs": [
    {
     "data": {
      "text/plain": [
       "CompletedProcess(args=['mv *.csv data'], returncode=1)"
      ]
     },
     "execution_count": 9,
     "metadata": {},
     "output_type": "execute_result"
    }
   ],
   "source": [
    "# Need to run the whole command as one string with shell=True\n",
    "# Because the wildcard '*' gets interpreted differently otherwise\n",
    "subprocess.run([\"mv *.zip data\"], shell=True)\n",
    "subprocess.run([\"mv *.csv data\"], shell=True)"
   ]
  },
  {
   "cell_type": "markdown",
   "metadata": {},
   "source": [
    "Can I circumvent downloading entirely?\n",
    "\n",
    "Might be able to just load in the data with boto3 into read_csv.\n",
    "\n",
    "Nope. Too annoying."
   ]
  },
  {
   "cell_type": "markdown",
   "metadata": {},
   "source": [
    "### Create the dataframe"
   ]
  },
  {
   "cell_type": "code",
   "execution_count": 10,
   "metadata": {},
   "outputs": [
    {
     "data": {
      "text/html": [
       "<div>\n",
       "<style scoped>\n",
       "    .dataframe tbody tr th:only-of-type {\n",
       "        vertical-align: middle;\n",
       "    }\n",
       "\n",
       "    .dataframe tbody tr th {\n",
       "        vertical-align: top;\n",
       "    }\n",
       "\n",
       "    .dataframe thead th {\n",
       "        text-align: right;\n",
       "    }\n",
       "</style>\n",
       "<table border=\"1\" class=\"dataframe\">\n",
       "  <thead>\n",
       "    <tr style=\"text-align: right;\">\n",
       "      <th></th>\n",
       "      <th>InvoiceID</th>\n",
       "      <th>PayerAccountId</th>\n",
       "      <th>LinkedAccountId</th>\n",
       "      <th>RecordType</th>\n",
       "      <th>RecordId</th>\n",
       "      <th>ProductName</th>\n",
       "      <th>RateId</th>\n",
       "      <th>SubscriptionId</th>\n",
       "      <th>PricingPlanId</th>\n",
       "      <th>UsageType</th>\n",
       "      <th>...</th>\n",
       "      <th>UsageEndDate</th>\n",
       "      <th>UsageQuantity</th>\n",
       "      <th>BlendedRate</th>\n",
       "      <th>BlendedCost</th>\n",
       "      <th>UnBlendedRate</th>\n",
       "      <th>UnBlendedCost</th>\n",
       "      <th>ResourceId</th>\n",
       "      <th>user:Name</th>\n",
       "      <th>user:Owner</th>\n",
       "      <th>user:Project</th>\n",
       "    </tr>\n",
       "  </thead>\n",
       "  <tbody>\n",
       "    <tr>\n",
       "      <th>0</th>\n",
       "      <td>329746753.0</td>\n",
       "      <td>465104592472</td>\n",
       "      <td>783380859522</td>\n",
       "      <td>DiscountedUsage</td>\n",
       "      <td>AWS</td>\n",
       "      <td>Amazon Elastic Compute Cloud</td>\n",
       "      <td>NaN</td>\n",
       "      <td>arn:aws:ec2:us-west-2:465104592472:reserved-in...</td>\n",
       "      <td>AmazonEC2</td>\n",
       "      <td>USW2-BoxUsage:m5.large</td>\n",
       "      <td>...</td>\n",
       "      <td>2019-10-01 01:00:00</td>\n",
       "      <td>1.000000e+00</td>\n",
       "      <td>0.096</td>\n",
       "      <td>9.120000e-02</td>\n",
       "      <td>0.096</td>\n",
       "      <td>9.120000e-02</td>\n",
       "      <td>i-05d84710fc674d773</td>\n",
       "      <td>pangeo-esip-core-Node</td>\n",
       "      <td>NaN</td>\n",
       "      <td>NaN</td>\n",
       "    </tr>\n",
       "    <tr>\n",
       "      <th>1</th>\n",
       "      <td>329746753.0</td>\n",
       "      <td>465104592472</td>\n",
       "      <td>783380859522</td>\n",
       "      <td>Usage</td>\n",
       "      <td>AWS</td>\n",
       "      <td>Amazon Simple Storage Service</td>\n",
       "      <td>NaN</td>\n",
       "      <td>NaN</td>\n",
       "      <td>AmazonS3</td>\n",
       "      <td>TimedStorage-ByteHrs</td>\n",
       "      <td>...</td>\n",
       "      <td>2019-10-01 01:00:00</td>\n",
       "      <td>8.780000e-07</td>\n",
       "      <td>0.023</td>\n",
       "      <td>1.920000e-08</td>\n",
       "      <td>0.023</td>\n",
       "      <td>1.920000e-08</td>\n",
       "      <td>pangeo-nasa-ops</td>\n",
       "      <td>NaN</td>\n",
       "      <td>NaN</td>\n",
       "      <td>NaN</td>\n",
       "    </tr>\n",
       "    <tr>\n",
       "      <th>2</th>\n",
       "      <td>329746753.0</td>\n",
       "      <td>465104592472</td>\n",
       "      <td>783380859522</td>\n",
       "      <td>Tax</td>\n",
       "      <td>AWS</td>\n",
       "      <td>USSalesTax</td>\n",
       "      <td>NaN</td>\n",
       "      <td>NaN</td>\n",
       "      <td>AmazonEC2</td>\n",
       "      <td>USW2-BoxUsage:m5.2xlarge</td>\n",
       "      <td>...</td>\n",
       "      <td>2019-10-16 19:58:36</td>\n",
       "      <td>1.000000e+00</td>\n",
       "      <td>0.000</td>\n",
       "      <td>0.000000e+00</td>\n",
       "      <td>0.000</td>\n",
       "      <td>0.000000e+00</td>\n",
       "      <td>NaN</td>\n",
       "      <td>NaN</td>\n",
       "      <td>NaN</td>\n",
       "      <td>NaN</td>\n",
       "    </tr>\n",
       "    <tr>\n",
       "      <th>3</th>\n",
       "      <td>329746753.0</td>\n",
       "      <td>465104592472</td>\n",
       "      <td>783380859522</td>\n",
       "      <td>Usage</td>\n",
       "      <td>AWS</td>\n",
       "      <td>Amazon Elastic Compute Cloud</td>\n",
       "      <td>NaN</td>\n",
       "      <td>NaN</td>\n",
       "      <td>AmazonEC2</td>\n",
       "      <td>EBS:VolumeUsage.gp2</td>\n",
       "      <td>...</td>\n",
       "      <td>2019-10-01 01:00:00</td>\n",
       "      <td>1.344086e-03</td>\n",
       "      <td>0.100</td>\n",
       "      <td>1.276882e-04</td>\n",
       "      <td>0.100</td>\n",
       "      <td>1.276882e-04</td>\n",
       "      <td>vol-04a548d23d54c10ed</td>\n",
       "      <td>kubernetes-dynamic-pvc-df2f564b-571a-11e9-b352...</td>\n",
       "      <td>NaN</td>\n",
       "      <td>NaN</td>\n",
       "    </tr>\n",
       "    <tr>\n",
       "      <th>4</th>\n",
       "      <td>329746753.0</td>\n",
       "      <td>465104592472</td>\n",
       "      <td>783380859522</td>\n",
       "      <td>Usage</td>\n",
       "      <td>AWS</td>\n",
       "      <td>Amazon Elastic Compute Cloud</td>\n",
       "      <td>NaN</td>\n",
       "      <td>NaN</td>\n",
       "      <td>AmazonEC2</td>\n",
       "      <td>USW2-DataTransfer-Out-Bytes</td>\n",
       "      <td>...</td>\n",
       "      <td>2019-10-01 01:00:00</td>\n",
       "      <td>1.405841e-04</td>\n",
       "      <td>0.000</td>\n",
       "      <td>0.000000e+00</td>\n",
       "      <td>0.000</td>\n",
       "      <td>0.000000e+00</td>\n",
       "      <td>i-018f284a186ac88e5</td>\n",
       "      <td>amandatan-testmachine</td>\n",
       "      <td>amandatan</td>\n",
       "      <td>ooica</td>\n",
       "    </tr>\n",
       "  </tbody>\n",
       "</table>\n",
       "<p>5 rows × 25 columns</p>\n",
       "</div>"
      ],
      "text/plain": [
       "     InvoiceID  PayerAccountId  LinkedAccountId       RecordType RecordId  \\\n",
       "0  329746753.0    465104592472     783380859522  DiscountedUsage      AWS   \n",
       "1  329746753.0    465104592472     783380859522            Usage      AWS   \n",
       "2  329746753.0    465104592472     783380859522              Tax      AWS   \n",
       "3  329746753.0    465104592472     783380859522            Usage      AWS   \n",
       "4  329746753.0    465104592472     783380859522            Usage      AWS   \n",
       "\n",
       "                     ProductName  RateId  \\\n",
       "0   Amazon Elastic Compute Cloud     NaN   \n",
       "1  Amazon Simple Storage Service     NaN   \n",
       "2                     USSalesTax     NaN   \n",
       "3   Amazon Elastic Compute Cloud     NaN   \n",
       "4   Amazon Elastic Compute Cloud     NaN   \n",
       "\n",
       "                                      SubscriptionId PricingPlanId  \\\n",
       "0  arn:aws:ec2:us-west-2:465104592472:reserved-in...     AmazonEC2   \n",
       "1                                                NaN      AmazonS3   \n",
       "2                                                NaN     AmazonEC2   \n",
       "3                                                NaN     AmazonEC2   \n",
       "4                                                NaN     AmazonEC2   \n",
       "\n",
       "                     UsageType  ...        UsageEndDate UsageQuantity  \\\n",
       "0       USW2-BoxUsage:m5.large  ... 2019-10-01 01:00:00  1.000000e+00   \n",
       "1         TimedStorage-ByteHrs  ... 2019-10-01 01:00:00  8.780000e-07   \n",
       "2     USW2-BoxUsage:m5.2xlarge  ... 2019-10-16 19:58:36  1.000000e+00   \n",
       "3          EBS:VolumeUsage.gp2  ... 2019-10-01 01:00:00  1.344086e-03   \n",
       "4  USW2-DataTransfer-Out-Bytes  ... 2019-10-01 01:00:00  1.405841e-04   \n",
       "\n",
       "  BlendedRate   BlendedCost UnBlendedRate UnBlendedCost  \\\n",
       "0       0.096  9.120000e-02         0.096  9.120000e-02   \n",
       "1       0.023  1.920000e-08         0.023  1.920000e-08   \n",
       "2       0.000  0.000000e+00         0.000  0.000000e+00   \n",
       "3       0.100  1.276882e-04         0.100  1.276882e-04   \n",
       "4       0.000  0.000000e+00         0.000  0.000000e+00   \n",
       "\n",
       "              ResourceId                                          user:Name  \\\n",
       "0    i-05d84710fc674d773                              pangeo-esip-core-Node   \n",
       "1        pangeo-nasa-ops                                                NaN   \n",
       "2                    NaN                                                NaN   \n",
       "3  vol-04a548d23d54c10ed  kubernetes-dynamic-pvc-df2f564b-571a-11e9-b352...   \n",
       "4    i-018f284a186ac88e5                              amandatan-testmachine   \n",
       "\n",
       "   user:Owner  user:Project  \n",
       "0         NaN           NaN  \n",
       "1         NaN           NaN  \n",
       "2         NaN           NaN  \n",
       "3         NaN           NaN  \n",
       "4   amandatan         ooica  \n",
       "\n",
       "[5 rows x 25 columns]"
      ]
     },
     "execution_count": 10,
     "metadata": {},
     "output_type": "execute_result"
    }
   ],
   "source": [
    "df_list = [pd.read_csv(\"data/\" + key, parse_dates=[14, 15]) for key in file_keys]\n",
    "df = pd.concat(df_list)\n",
    "df.head()"
   ]
  },
  {
   "cell_type": "markdown",
   "metadata": {},
   "source": [
    "## Computations / Visualizations"
   ]
  },
  {
   "cell_type": "code",
   "execution_count": 11,
   "metadata": {},
   "outputs": [
    {
     "data": {
      "text/plain": [
       "12046.012941148496"
      ]
     },
     "execution_count": 11,
     "metadata": {},
     "output_type": "execute_result"
    }
   ],
   "source": [
    "total_expenditures = df.BlendedCost.sum()\n",
    "total_expenditures"
   ]
  },
  {
   "cell_type": "code",
   "execution_count": 12,
   "metadata": {},
   "outputs": [
    {
     "data": {
      "text/plain": [
       "ProductName\n",
       "AWS CloudTrail                                        0.000000\n",
       "AWS Glue                                              0.000000\n",
       "AWS IoT                                               0.001121\n",
       "AWS Key Management Service                            0.006566\n",
       "AWS Lambda                                            0.004057\n",
       "AWS Secrets Manager                                   0.000010\n",
       "AWS Support (Business)                                0.000000\n",
       "Amazon DynamoDB                                       0.000000\n",
       "Amazon EC2 Container Registry (ECR)                   8.596459\n",
       "Amazon Elastic Compute Cloud                       8177.425750\n",
       "Amazon Elastic Container Service for Kubernetes    1038.895885\n",
       "Amazon Elastic File System                         1035.141308\n",
       "Amazon Glacier                                        0.000002\n",
       "Amazon Route 53                                       0.190796\n",
       "Amazon SageMaker                                    135.902850\n",
       "Amazon Simple Notification Service                    0.001427\n",
       "Amazon Simple Queue Service                           0.000632\n",
       "Amazon Simple Storage Service                       477.611081\n",
       "Amazon Simple Workflow Service                        0.000000\n",
       "Amazon SimpleDB                                       0.000000\n",
       "AmazonCloudWatch                                     77.142912\n",
       "Custom Charge                                      1095.092086\n",
       "USSalesTax                                            0.000000\n",
       "Name: BlendedCost, dtype: float64"
      ]
     },
     "execution_count": 12,
     "metadata": {},
     "output_type": "execute_result"
    }
   ],
   "source": [
    "df.groupby('ProductName').sum()['BlendedCost']"
   ]
  },
  {
   "cell_type": "markdown",
   "metadata": {},
   "source": [
    "Note: The Custom Charge seen in these cells is DLT Business Support."
   ]
  },
  {
   "cell_type": "code",
   "execution_count": 13,
   "metadata": {},
   "outputs": [
    {
     "data": {
      "text/plain": [
       "'AWS/DLT Business Support, 10.0000% from $0.00 to $10,000.00'"
      ]
     },
     "execution_count": 13,
     "metadata": {},
     "output_type": "execute_result"
    }
   ],
   "source": [
    "df[df['ProductName'] == 'Custom Charge']['ItemDescription'].values[0]"
   ]
  },
  {
   "cell_type": "code",
   "execution_count": 14,
   "metadata": {},
   "outputs": [
    {
     "data": {
      "image/png": "[encoded data removed]",
      "text/plain": [
       "<Figure size 432x288 with 1 Axes>"
      ]
     },
     "metadata": {
      "needs_background": "light"
     },
     "output_type": "display_data"
    }
   ],
   "source": [
    "_ = df.groupby('ProductName').sum()['BlendedCost'].sort_values().plot(kind='barh')\n",
    "_ = plt.xlabel('Cost ($)')"
   ]
  },
  {
   "cell_type": "markdown",
   "metadata": {},
   "source": [
    "### Analysis Sections\n",
    "\n",
    "- Daily Costs (done)\n",
    "- Costs by Cluster\n",
    "- Monthly Costs (done)\n",
    "- Costs by User?"
   ]
  },
  {
   "cell_type": "code",
   "execution_count": 15,
   "metadata": {},
   "outputs": [
    {
     "data": {
      "text/html": [
       "<div>\n",
       "<style scoped>\n",
       "    .dataframe tbody tr th:only-of-type {\n",
       "        vertical-align: middle;\n",
       "    }\n",
       "\n",
       "    .dataframe tbody tr th {\n",
       "        vertical-align: top;\n",
       "    }\n",
       "\n",
       "    .dataframe thead th {\n",
       "        text-align: right;\n",
       "    }\n",
       "</style>\n",
       "<table border=\"1\" class=\"dataframe\">\n",
       "  <thead>\n",
       "    <tr style=\"text-align: right;\">\n",
       "      <th></th>\n",
       "      <th>InvoiceID</th>\n",
       "      <th>PayerAccountId</th>\n",
       "      <th>LinkedAccountId</th>\n",
       "      <th>RecordType</th>\n",
       "      <th>RecordId</th>\n",
       "      <th>ProductName</th>\n",
       "      <th>RateId</th>\n",
       "      <th>SubscriptionId</th>\n",
       "      <th>PricingPlanId</th>\n",
       "      <th>UsageType</th>\n",
       "      <th>...</th>\n",
       "      <th>UsageStartDate</th>\n",
       "      <th>UsageQuantity</th>\n",
       "      <th>BlendedRate</th>\n",
       "      <th>BlendedCost</th>\n",
       "      <th>UnBlendedRate</th>\n",
       "      <th>UnBlendedCost</th>\n",
       "      <th>ResourceId</th>\n",
       "      <th>user:Name</th>\n",
       "      <th>user:Owner</th>\n",
       "      <th>user:Project</th>\n",
       "    </tr>\n",
       "    <tr>\n",
       "      <th>UsageEndDate</th>\n",
       "      <th></th>\n",
       "      <th></th>\n",
       "      <th></th>\n",
       "      <th></th>\n",
       "      <th></th>\n",
       "      <th></th>\n",
       "      <th></th>\n",
       "      <th></th>\n",
       "      <th></th>\n",
       "      <th></th>\n",
       "      <th></th>\n",
       "      <th></th>\n",
       "      <th></th>\n",
       "      <th></th>\n",
       "      <th></th>\n",
       "      <th></th>\n",
       "      <th></th>\n",
       "      <th></th>\n",
       "      <th></th>\n",
       "      <th></th>\n",
       "      <th></th>\n",
       "    </tr>\n",
       "  </thead>\n",
       "  <tbody>\n",
       "    <tr>\n",
       "      <th>2019-10-01 01:00:00</th>\n",
       "      <td>329746753.0</td>\n",
       "      <td>465104592472</td>\n",
       "      <td>783380859522</td>\n",
       "      <td>DiscountedUsage</td>\n",
       "      <td>AWS</td>\n",
       "      <td>Amazon Elastic Compute Cloud</td>\n",
       "      <td>NaN</td>\n",
       "      <td>arn:aws:ec2:us-west-2:465104592472:reserved-in...</td>\n",
       "      <td>AmazonEC2</td>\n",
       "      <td>USW2-BoxUsage:m5.large</td>\n",
       "      <td>...</td>\n",
       "      <td>2019-10-01</td>\n",
       "      <td>1.000000e+00</td>\n",
       "      <td>0.096</td>\n",
       "      <td>9.120000e-02</td>\n",
       "      <td>0.096</td>\n",
       "      <td>9.120000e-02</td>\n",
       "      <td>i-05d84710fc674d773</td>\n",
       "      <td>pangeo-esip-core-Node</td>\n",
       "      <td>NaN</td>\n",
       "      <td>NaN</td>\n",
       "    </tr>\n",
       "    <tr>\n",
       "      <th>2019-10-01 01:00:00</th>\n",
       "      <td>329746753.0</td>\n",
       "      <td>465104592472</td>\n",
       "      <td>783380859522</td>\n",
       "      <td>Usage</td>\n",
       "      <td>AWS</td>\n",
       "      <td>Amazon Simple Storage Service</td>\n",
       "      <td>NaN</td>\n",
       "      <td>NaN</td>\n",
       "      <td>AmazonS3</td>\n",
       "      <td>TimedStorage-ByteHrs</td>\n",
       "      <td>...</td>\n",
       "      <td>2019-10-01</td>\n",
       "      <td>8.780000e-07</td>\n",
       "      <td>0.023</td>\n",
       "      <td>1.920000e-08</td>\n",
       "      <td>0.023</td>\n",
       "      <td>1.920000e-08</td>\n",
       "      <td>pangeo-nasa-ops</td>\n",
       "      <td>NaN</td>\n",
       "      <td>NaN</td>\n",
       "      <td>NaN</td>\n",
       "    </tr>\n",
       "    <tr>\n",
       "      <th>2019-10-16 19:58:36</th>\n",
       "      <td>329746753.0</td>\n",
       "      <td>465104592472</td>\n",
       "      <td>783380859522</td>\n",
       "      <td>Tax</td>\n",
       "      <td>AWS</td>\n",
       "      <td>USSalesTax</td>\n",
       "      <td>NaN</td>\n",
       "      <td>NaN</td>\n",
       "      <td>AmazonEC2</td>\n",
       "      <td>USW2-BoxUsage:m5.2xlarge</td>\n",
       "      <td>...</td>\n",
       "      <td>2019-10-01</td>\n",
       "      <td>1.000000e+00</td>\n",
       "      <td>0.000</td>\n",
       "      <td>0.000000e+00</td>\n",
       "      <td>0.000</td>\n",
       "      <td>0.000000e+00</td>\n",
       "      <td>NaN</td>\n",
       "      <td>NaN</td>\n",
       "      <td>NaN</td>\n",
       "      <td>NaN</td>\n",
       "    </tr>\n",
       "    <tr>\n",
       "      <th>2019-10-01 01:00:00</th>\n",
       "      <td>329746753.0</td>\n",
       "      <td>465104592472</td>\n",
       "      <td>783380859522</td>\n",
       "      <td>Usage</td>\n",
       "      <td>AWS</td>\n",
       "      <td>Amazon Elastic Compute Cloud</td>\n",
       "      <td>NaN</td>\n",
       "      <td>NaN</td>\n",
       "      <td>AmazonEC2</td>\n",
       "      <td>EBS:VolumeUsage.gp2</td>\n",
       "      <td>...</td>\n",
       "      <td>2019-10-01</td>\n",
       "      <td>1.344086e-03</td>\n",
       "      <td>0.100</td>\n",
       "      <td>1.276882e-04</td>\n",
       "      <td>0.100</td>\n",
       "      <td>1.276882e-04</td>\n",
       "      <td>vol-04a548d23d54c10ed</td>\n",
       "      <td>kubernetes-dynamic-pvc-df2f564b-571a-11e9-b352...</td>\n",
       "      <td>NaN</td>\n",
       "      <td>NaN</td>\n",
       "    </tr>\n",
       "    <tr>\n",
       "      <th>2019-10-01 01:00:00</th>\n",
       "      <td>329746753.0</td>\n",
       "      <td>465104592472</td>\n",
       "      <td>783380859522</td>\n",
       "      <td>Usage</td>\n",
       "      <td>AWS</td>\n",
       "      <td>Amazon Elastic Compute Cloud</td>\n",
       "      <td>NaN</td>\n",
       "      <td>NaN</td>\n",
       "      <td>AmazonEC2</td>\n",
       "      <td>USW2-DataTransfer-Out-Bytes</td>\n",
       "      <td>...</td>\n",
       "      <td>2019-10-01</td>\n",
       "      <td>1.405841e-04</td>\n",
       "      <td>0.000</td>\n",
       "      <td>0.000000e+00</td>\n",
       "      <td>0.000</td>\n",
       "      <td>0.000000e+00</td>\n",
       "      <td>i-018f284a186ac88e5</td>\n",
       "      <td>amandatan-testmachine</td>\n",
       "      <td>amandatan</td>\n",
       "      <td>ooica</td>\n",
       "    </tr>\n",
       "  </tbody>\n",
       "</table>\n",
       "<p>5 rows × 24 columns</p>\n",
       "</div>"
      ],
      "text/plain": [
       "                       InvoiceID  PayerAccountId  LinkedAccountId  \\\n",
       "UsageEndDate                                                        \n",
       "2019-10-01 01:00:00  329746753.0    465104592472     783380859522   \n",
       "2019-10-01 01:00:00  329746753.0    465104592472     783380859522   \n",
       "2019-10-16 19:58:36  329746753.0    465104592472     783380859522   \n",
       "2019-10-01 01:00:00  329746753.0    465104592472     783380859522   \n",
       "2019-10-01 01:00:00  329746753.0    465104592472     783380859522   \n",
       "\n",
       "                          RecordType RecordId                    ProductName  \\\n",
       "UsageEndDate                                                                   \n",
       "2019-10-01 01:00:00  DiscountedUsage      AWS   Amazon Elastic Compute Cloud   \n",
       "2019-10-01 01:00:00            Usage      AWS  Amazon Simple Storage Service   \n",
       "2019-10-16 19:58:36              Tax      AWS                     USSalesTax   \n",
       "2019-10-01 01:00:00            Usage      AWS   Amazon Elastic Compute Cloud   \n",
       "2019-10-01 01:00:00            Usage      AWS   Amazon Elastic Compute Cloud   \n",
       "\n",
       "                     RateId  \\\n",
       "UsageEndDate                  \n",
       "2019-10-01 01:00:00     NaN   \n",
       "2019-10-01 01:00:00     NaN   \n",
       "2019-10-16 19:58:36     NaN   \n",
       "2019-10-01 01:00:00     NaN   \n",
       "2019-10-01 01:00:00     NaN   \n",
       "\n",
       "                                                        SubscriptionId  \\\n",
       "UsageEndDate                                                             \n",
       "2019-10-01 01:00:00  arn:aws:ec2:us-west-2:465104592472:reserved-in...   \n",
       "2019-10-01 01:00:00                                                NaN   \n",
       "2019-10-16 19:58:36                                                NaN   \n",
       "2019-10-01 01:00:00                                                NaN   \n",
       "2019-10-01 01:00:00                                                NaN   \n",
       "\n",
       "                    PricingPlanId                    UsageType  ...  \\\n",
       "UsageEndDate                                                    ...   \n",
       "2019-10-01 01:00:00     AmazonEC2       USW2-BoxUsage:m5.large  ...   \n",
       "2019-10-01 01:00:00      AmazonS3         TimedStorage-ByteHrs  ...   \n",
       "2019-10-16 19:58:36     AmazonEC2     USW2-BoxUsage:m5.2xlarge  ...   \n",
       "2019-10-01 01:00:00     AmazonEC2          EBS:VolumeUsage.gp2  ...   \n",
       "2019-10-01 01:00:00     AmazonEC2  USW2-DataTransfer-Out-Bytes  ...   \n",
       "\n",
       "                    UsageStartDate UsageQuantity BlendedRate   BlendedCost  \\\n",
       "UsageEndDate                                                                 \n",
       "2019-10-01 01:00:00     2019-10-01  1.000000e+00       0.096  9.120000e-02   \n",
       "2019-10-01 01:00:00     2019-10-01  8.780000e-07       0.023  1.920000e-08   \n",
       "2019-10-16 19:58:36     2019-10-01  1.000000e+00       0.000  0.000000e+00   \n",
       "2019-10-01 01:00:00     2019-10-01  1.344086e-03       0.100  1.276882e-04   \n",
       "2019-10-01 01:00:00     2019-10-01  1.405841e-04       0.000  0.000000e+00   \n",
       "\n",
       "                    UnBlendedRate  UnBlendedCost             ResourceId  \\\n",
       "UsageEndDate                                                              \n",
       "2019-10-01 01:00:00         0.096   9.120000e-02    i-05d84710fc674d773   \n",
       "2019-10-01 01:00:00         0.023   1.920000e-08        pangeo-nasa-ops   \n",
       "2019-10-16 19:58:36         0.000   0.000000e+00                    NaN   \n",
       "2019-10-01 01:00:00         0.100   1.276882e-04  vol-04a548d23d54c10ed   \n",
       "2019-10-01 01:00:00         0.000   0.000000e+00    i-018f284a186ac88e5   \n",
       "\n",
       "                                                             user:Name  \\\n",
       "UsageEndDate                                                             \n",
       "2019-10-01 01:00:00                              pangeo-esip-core-Node   \n",
       "2019-10-01 01:00:00                                                NaN   \n",
       "2019-10-16 19:58:36                                                NaN   \n",
       "2019-10-01 01:00:00  kubernetes-dynamic-pvc-df2f564b-571a-11e9-b352...   \n",
       "2019-10-01 01:00:00                              amandatan-testmachine   \n",
       "\n",
       "                     user:Owner  user:Project  \n",
       "UsageEndDate                                   \n",
       "2019-10-01 01:00:00         NaN           NaN  \n",
       "2019-10-01 01:00:00         NaN           NaN  \n",
       "2019-10-16 19:58:36         NaN           NaN  \n",
       "2019-10-01 01:00:00         NaN           NaN  \n",
       "2019-10-01 01:00:00   amandatan         ooica  \n",
       "\n",
       "[5 rows x 24 columns]"
      ]
     },
     "execution_count": 15,
     "metadata": {},
     "output_type": "execute_result"
    }
   ],
   "source": [
    "df_time_idx = df.set_index(\"UsageEndDate\")\n",
    "df_time_idx.head()"
   ]
  },
  {
   "cell_type": "code",
   "execution_count": 16,
   "metadata": {},
   "outputs": [],
   "source": [
    "# helper function to process start_time, end_time, and df\n",
    "def process_start_and_end_time(df, start_time, end_time, cost_col):\n",
    "    \"\"\"\n",
    "    Helper function to use start and end time\n",
    "    Should function with either, both, or neither of start and end time specified\n",
    "    \"\"\"\n",
    "    data_to_plot = df.resample(\"D\").sum()\n",
    "    if start_time and end_time:\n",
    "        data_to_plot = data_to_plot.loc[start_time:end_time, cost_col]\n",
    "    elif start_time and not end_time:\n",
    "        data_to_plot = data_to_plot.loc[start_time:, cost_col]\n",
    "    elif not start_time and end_time:\n",
    "        data_to_plot = data_to_plot.loc[:end_time, cost_col]\n",
    "    else:\n",
    "        data_to_plot = data_to_plot.loc[:, cost_col]\n",
    "        \n",
    "    return data_to_plot"
   ]
  },
  {
   "cell_type": "code",
   "execution_count": 17,
   "metadata": {},
   "outputs": [],
   "source": [
    "def plot_daily_costs(df, start_time=None, end_time=None, cost_col=\"BlendedCost\"):\n",
    "    \"\"\"\n",
    "    Plots a bar graph of daily costs over the specified range\n",
    "    Can also specify the cost type\n",
    "    \"\"\"\n",
    "    \n",
    "    # Get the correct data to plot\n",
    "    data_to_plot = process_start_and_end_time(df, start_time, end_time, cost_col)\n",
    "    \n",
    "    # Total Costs and Title / Label Formatting\n",
    "    cost_total = data_to_plot.sum()\n",
    "    title = \"Daily Costs (Total Cost $%0.2f)\" % cost_total\n",
    "    ylabel = \"Daily Costs ($ of %s)\" % cost_col\n",
    "\n",
    "    # Actual Plot\n",
    "    fig, ax = plt.subplots()\n",
    "\n",
    "    # Formatting for Dates\n",
    "    days = mdates.DayLocator()\n",
    "    months = mdates.MonthLocator()\n",
    "    month_fmt = mdates.DateFormatter(\"%B\")\n",
    "    ax.xaxis.set_major_locator(months)\n",
    "    ax.xaxis.set_minor_locator(days)\n",
    "    ax.xaxis.set_major_formatter(month_fmt)\n",
    "\n",
    "    # Plot with raw matplotlib\n",
    "    ax.bar(data_to_plot.index, data_to_plot.values)\n",
    "    plt.ylabel(ylabel)\n",
    "    plt.xlabel(\"Usage End Date\")\n",
    "    plt.title(title)\n",
    "\n",
    "    return fig"
   ]
  },
  {
   "cell_type": "code",
   "execution_count": 18,
   "metadata": {},
   "outputs": [
    {
     "data": {
      "image/png": "[encoded data removed]",
      "text/plain": [
       "<Figure size 432x288 with 1 Axes>"
      ]
     },
     "metadata": {
      "needs_background": "light"
     },
     "output_type": "display_data"
    }
   ],
   "source": [
    "_ = plot_daily_costs(df_time_idx)"
   ]
  },
  {
   "cell_type": "code",
   "execution_count": 19,
   "metadata": {},
   "outputs": [
    {
     "data": {
      "image/png": "[encoded data removed]",
      "text/plain": [
       "<Figure size 432x288 with 1 Axes>"
      ]
     },
     "metadata": {
      "needs_background": "light"
     },
     "output_type": "display_data"
    }
   ],
   "source": [
    "_ = plot_daily_costs(df=df_time_idx, start_time=\"2019-11-01\")"
   ]
  },
  {
   "cell_type": "code",
   "execution_count": 20,
   "metadata": {},
   "outputs": [
    {
     "data": {
      "image/png": "[encoded data removed]",
      "text/plain": [
       "<Figure size 432x288 with 1 Axes>"
      ]
     },
     "metadata": {
      "needs_background": "light"
     },
     "output_type": "display_data"
    }
   ],
   "source": [
    "_ = plot_daily_costs(df=df_time_idx, start_time=\"2019-10-01\",\n",
    "                     end_time=\"2019-10-31\", cost_col=\"UnBlendedCost\")"
   ]
  },
  {
   "cell_type": "code",
   "execution_count": 21,
   "metadata": {},
   "outputs": [],
   "source": [
    "def plot_monthly_costs(df, start_time=None, end_time=None, cost_col=\"BlendedCost\"):\n",
    "    \"\"\"\n",
    "    Plots a bar graph of month costs over the specified range\n",
    "    Can also specify the cost column\n",
    "    \"\"\"\n",
    "    \n",
    "    # Get the correct data to plot\n",
    "    data_to_plot = process_start_and_end_time(df, start_time, end_time, cost_col)\n",
    "    \n",
    "    # Total Nov Costs and Title / Label Formatting\n",
    "    cost_total = data_to_plot.sum()\n",
    "    title = \"Monthly Costs (Total Cost $%0.2f)\" % cost_total\n",
    "    ylabel = \"Monthly Costs ($ of %s)\" % cost_col\n",
    "    \n",
    "    # Actual Plot\n",
    "    fig, ax = plt.subplots()\n",
    "\n",
    "    # Formatting for Dates\n",
    "    months = mdates.MonthLocator()\n",
    "    month_fmt = mdates.DateFormatter(\"%B\")\n",
    "    ax.xaxis.set_major_locator(months)\n",
    "    ax.xaxis.set_major_formatter(month_fmt)\n",
    "\n",
    "    # Plot with raw matplotlib\n",
    "    ax.bar(data_to_plot.index, data_to_plot.values)\n",
    "    plt.ylabel(ylabel)\n",
    "    plt.xlabel(\"Usage End Date\")\n",
    "    plt.title(title)\n",
    "\n",
    "    return fig"
   ]
  },
  {
   "cell_type": "code",
   "execution_count": 22,
   "metadata": {},
   "outputs": [
    {
     "data": {
      "image/png": "[encoded data removed]",
      "text/plain": [
       "<Figure size 432x288 with 1 Axes>"
      ]
     },
     "metadata": {
      "needs_background": "light"
     },
     "output_type": "display_data"
    }
   ],
   "source": [
    "_ = plot_monthly_costs(df_time_idx)"
   ]
  },
  {
   "cell_type": "code",
   "execution_count": null,
   "metadata": {},
   "outputs": [],
   "source": []
  },
  {
   "cell_type": "code",
   "execution_count": null,
   "metadata": {},
   "outputs": [],
   "source": []
  },
  {
   "cell_type": "code",
   "execution_count": null,
   "metadata": {},
   "outputs": [],
   "source": []
  },
  {
   "cell_type": "code",
   "execution_count": null,
   "metadata": {},
   "outputs": [],
   "source": []
  }
 ],
 "metadata": {
  "kernelspec": {
   "display_name": "Python 3",
   "language": "python",
   "name": "python3"
  },
  "language_info": {
   "codemirror_mode": {
    "name": "ipython",
    "version": 3
   },
   "file_extension": ".py",
   "mimetype": "text/x-python",
   "name": "python",
   "nbconvert_exporter": "python",
   "pygments_lexer": "ipython3",
   "version": "3.7.3"
  }
 },
 "nbformat": 4,
 "nbformat_minor": 4
}
